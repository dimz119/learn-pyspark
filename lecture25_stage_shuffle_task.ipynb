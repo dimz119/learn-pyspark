{
 "cells": [
  {
   "cell_type": "code",
   "execution_count": 3,
   "id": "f7360720-2415-4205-9d0d-d41951fc8f48",
   "metadata": {},
   "outputs": [
    {
     "name": "stdout",
     "output_type": "stream",
     "text": [
      "== Physical Plan ==\n",
      "Scan text  (1)\n",
      "\n",
      "\n",
      "(1) Scan text \n",
      "Output [1]: [value#0]\n",
      "Batched: false\n",
      "Location: InMemoryFileIndex [file:/home/jovyan/work/sample/lorem_ipsum.txt]\n",
      "ReadSchema: struct<value:string>\n",
      "\n",
      "\n"
     ]
    }
   ],
   "source": [
    "from pyspark.sql import (\n",
    "    functions as f,\n",
    "    SparkSession,\n",
    "    types as t\n",
    ")\n",
    "\n",
    "spark = SparkSession.builder.appName(\"logical_plan_and_physical_plan\").getOrCreate()\n",
    "\n",
    "######################\n",
    "# code block 1 - Job #\n",
    "######################\n",
    "file_path = \"file:///home/jovyan/work/sample/lorem_ipsum.txt\"\n",
    "df = spark.read.text(file_path)\n",
    "df.explain(mode=\"formatted\")"
   ]
  },
  {
   "cell_type": "code",
   "execution_count": 5,
   "id": "d220afb1-7fa5-4c42-ab6f-0a041d7eda68",
   "metadata": {},
   "outputs": [
    {
     "name": "stdout",
     "output_type": "stream",
     "text": [
      "== Parsed Logical Plan ==\n",
      "'Aggregate ['word], ['word, count(1) AS count#16L]\n",
      "+- Project [word#12]\n",
      "   +- Generate explode(split(value#0,  , -1)), false, [word#12]\n",
      "      +- Relation [value#0] text\n",
      "\n",
      "== Analyzed Logical Plan ==\n",
      "word: string, count: bigint\n",
      "Aggregate [word#12], [word#12, count(1) AS count#16L]\n",
      "+- Project [word#12]\n",
      "   +- Generate explode(split(value#0,  , -1)), false, [word#12]\n",
      "      +- Relation [value#0] text\n",
      "\n",
      "== Optimized Logical Plan ==\n",
      "Aggregate [word#12], [word#12, count(1) AS count#16L]\n",
      "+- Generate explode(split(value#0,  , -1)), [0], false, [word#12]\n",
      "   +- Relation [value#0] text\n",
      "\n",
      "== Physical Plan ==\n",
      "AdaptiveSparkPlan isFinalPlan=false\n",
      "+- HashAggregate(keys=[word#12], functions=[count(1)], output=[word#12, count#16L])\n",
      "   +- Exchange hashpartitioning(word#12, 200), ENSURE_REQUIREMENTS, [plan_id=18]\n",
      "      +- HashAggregate(keys=[word#12], functions=[partial_count(1)], output=[word#12, count#20L])\n",
      "         +- Generate explode(split(value#0,  , -1)), false, [word#12]\n",
      "            +- FileScan text [value#0] Batched: false, DataFilters: [], Format: Text, Location: InMemoryFileIndex(1 paths)[file:/home/jovyan/work/sample/lorem_ipsum.txt], PartitionFilters: [], PushedFilters: [], ReadSchema: struct<value:string>\n",
      "\n"
     ]
    }
   ],
   "source": [
    "######################\n",
    "# code block 2 - Job #\n",
    "######################\n",
    "words = df.select(\n",
    "    f.explode(\n",
    "        f.split(df.value, ' ')).alias(\"word\"))\n",
    "\n",
    "word_counts = words.groupBy(\"word\").count()\n",
    "\n",
    "word_counts.explain(extended=True)"
   ]
  },
  {
   "cell_type": "code",
   "execution_count": 7,
   "id": "0df6af27-cac8-4bd0-9220-e8ff87e55bb2",
   "metadata": {},
   "outputs": [
    {
     "name": "stdout",
     "output_type": "stream",
     "text": [
      "== Physical Plan ==\n",
      "AdaptiveSparkPlan (6)\n",
      "+- HashAggregate (5)\n",
      "   +- Exchange (4)\n",
      "      +- HashAggregate (3)\n",
      "         +- Generate (2)\n",
      "            +- Scan text  (1)\n",
      "\n",
      "\n",
      "(1) Scan text \n",
      "Output [1]: [value#0]\n",
      "Batched: false\n",
      "Location: InMemoryFileIndex [file:/home/jovyan/work/sample/lorem_ipsum.txt]\n",
      "ReadSchema: struct<value:string>\n",
      "\n",
      "(2) Generate\n",
      "Input [1]: [value#0]\n",
      "Arguments: explode(split(value#0,  , -1)), false, [word#12]\n",
      "\n",
      "(3) HashAggregate\n",
      "Input [1]: [word#12]\n",
      "Keys [1]: [word#12]\n",
      "Functions [1]: [partial_count(1)]\n",
      "Aggregate Attributes [1]: [count#19L]\n",
      "Results [2]: [word#12, count#20L]\n",
      "\n",
      "(4) Exchange\n",
      "Input [2]: [word#12, count#20L]\n",
      "Arguments: hashpartitioning(word#12, 200), ENSURE_REQUIREMENTS, [plan_id=18]\n",
      "\n",
      "(5) HashAggregate\n",
      "Input [2]: [word#12, count#20L]\n",
      "Keys [1]: [word#12]\n",
      "Functions [1]: [count(1)]\n",
      "Aggregate Attributes [1]: [count(1)#15L]\n",
      "Results [2]: [word#12, count(1)#15L AS count#16L]\n",
      "\n",
      "(6) AdaptiveSparkPlan\n",
      "Output [2]: [word#12, count#16L]\n",
      "Arguments: isFinalPlan=false\n",
      "\n",
      "\n",
      "+------------+-----+\n",
      "|        word|count|\n",
      "+------------+-----+\n",
      "|         Sit|   32|\n",
      "|        Elit|   14|\n",
      "|   vehicula.|    2|\n",
      "|       eros.|    3|\n",
      "|        nam.|    5|\n",
      "|   porttitor|   30|\n",
      "|        dui.|    9|\n",
      "|consectetur.|   15|\n",
      "|   senectus.|    2|\n",
      "|   eleifend.|    4|\n",
      "|        odio|   54|\n",
      "|         Sed|   24|\n",
      "|      Turpis|   12|\n",
      "|    volutpat|   58|\n",
      "|    integer.|   11|\n",
      "|    interdum|   32|\n",
      "|     pretium|   53|\n",
      "|          Eu|   18|\n",
      "|     semper.|    6|\n",
      "|       nisl.|   18|\n",
      "+------------+-----+\n",
      "only showing top 20 rows\n",
      "\n"
     ]
    }
   ],
   "source": [
    "word_counts.explain(mode=\"formatted\")\n",
    "# word_counts.show()"
   ]
  },
  {
   "cell_type": "code",
   "execution_count": null,
   "id": "6774df64-7e1a-45fd-93fc-012b91ed9eac",
   "metadata": {},
   "outputs": [],
   "source": []
  }
 ],
 "metadata": {
  "kernelspec": {
   "display_name": "Python 3 (ipykernel)",
   "language": "python",
   "name": "python3"
  },
  "language_info": {
   "codemirror_mode": {
    "name": "ipython",
    "version": 3
   },
   "file_extension": ".py",
   "mimetype": "text/x-python",
   "name": "python",
   "nbconvert_exporter": "python",
   "pygments_lexer": "ipython3",
   "version": "3.11.6"
  }
 },
 "nbformat": 4,
 "nbformat_minor": 5
}
