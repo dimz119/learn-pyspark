{
 "cells": [
  {
   "cell_type": "code",
   "execution_count": null,
   "id": "ab0c9fbf-e1d3-45e5-8439-f883a2985fe2",
   "metadata": {},
   "outputs": [],
   "source": [
    "import collections\n",
    "import pyspark\n",
    "\n",
    "test_file = \"file:///home/jovyan/work/sample/grade.txt\"\n",
    "# sc = pyspark.SparkContext('local[*]')\n",
    "sc = pyspark.SparkContext.getOrCreate()\n",
    "\n",
    "text_file = sc.textFile(test_file)\n",
    "\n",
    "grade = text_file.map(lambda line: line.split(\" \")[1])\n",
    "\n",
    "# Return the count of each unique value in this RDD as a dictionary of (value, count) pairs.\n",
    "grade_count = grade.countByValue()\n",
    "\n",
    "for grade, count in sorted(grade_count.items(), key=lambda item: item[1], reverse=True):\n",
    "    print(f\"{grade}: {count}\")"
   ]
  }
 ],
 "metadata": {
  "kernelspec": {
   "display_name": "Python 3.10.7 64-bit",
   "language": "python",
   "name": "python3"
  },
  "language_info": {
   "codemirror_mode": {
    "name": "ipython",
    "version": 3
   },
   "file_extension": ".py",
   "mimetype": "text/x-python",
   "name": "python",
   "nbconvert_exporter": "python",
   "pygments_lexer": "ipython3",
   "version": "3.10.7"
  },
  "vscode": {
   "interpreter": {
    "hash": "aee8b7b246df8f9039afb4144a1f6fd8d2ca17a180786b69acc140d282b71a49"
   }
  }
 },
 "nbformat": 4,
 "nbformat_minor": 5
}
