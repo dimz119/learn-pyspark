{
 "cells": [
  {
   "cell_type": "code",
   "execution_count": null,
   "id": "9f4e82c4-ba77-4953-a273-a9073ba8f58e",
   "metadata": {},
   "outputs": [],
   "source": [
    "import pyspark\n",
    "\n",
    "sc = pyspark.SparkContext.getOrCreate()\n",
    "# Key / Value RDD\n",
    "\n",
    "# creating Key / Value RDD\n",
    "total_by_brand = rdd.map(lambda brand: (brand, 1))\n",
    "\n",
    "# # reduceByKey(): Merge the values for each key using an associative and commutative reduce function.\n",
    "from operator import add\n",
    "rdd = sc.parallelize([(\"a\", 1), (\"b\", 1), (\"a\", 1)])\n",
    "sorted(rdd.reduceByKey(add).collect())\n",
    "[('a', 2), ('b', 1)]\n",
    "\n",
    "\n",
    "# groupByKey(): Group the values for each key in the RDD into a single sequence. Hash-partitions the resulting RDD with numPartitions partitions.\n",
    "rdd = sc.parallelize([(\"a\", 1), (\"b\", 1), (\"a\", 1)])\n",
    "sorted(rdd.groupByKey().mapValues(len).collect())\n",
    "[('a', 2), ('b', 1)]\n",
    "sorted(rdd.groupByKey().mapValues(list).collect())\n",
    "[('a', [1, 1]), ('b', [1])]\n",
    "\n",
    "\n",
    "# sortByKey(): Sorts this RDD, which is assumed to consist of (key, value) pairs.\n",
    "tmp = [('a', 1), ('b', 2), ('1', 3), ('d', 4), ('2', 5)]\n",
    "sc.parallelize(tmp).sortByKey().first()\n",
    "('1', 3)\n",
    "\n",
    "\n",
    "# keys(), values(): Create a RDD of keys or just values\n",
    "rdd = sc.parallelize([(\"a\", 1), (\"b\", 1), (\"a\", 1)])\n",
    "rdd.keys()\n",
    "['a', 'b', 'a']\n",
    "\n",
    "# join, rightOuterJoin, leftOuterJoin, cogroup, subtractByKey\n",
    "x = sc.parallelize([(\"a\", 1), (\"b\", 4)])\n",
    "y = sc.parallelize([(\"a\", 2), (\"a\", 3)])\n",
    "sorted(x.join(y).collect())\n",
    "[('a', (1, 2)), ('a', (1, 3))]\n",
    "\n",
    "\n",
    "# Efficiency is the key for performance!!!\n",
    "# if you only need values, use mapValues() or flatMapValues()"
   ]
  }
 ],
 "metadata": {
  "kernelspec": {
   "display_name": "Python 3.10.7 64-bit",
   "language": "python",
   "name": "python3"
  },
  "language_info": {
   "codemirror_mode": {
    "name": "ipython",
    "version": 3
   },
   "file_extension": ".py",
   "mimetype": "text/x-python",
   "name": "python",
   "nbconvert_exporter": "python",
   "pygments_lexer": "ipython3",
   "version": "3.10.7"
  },
  "vscode": {
   "interpreter": {
    "hash": "aee8b7b246df8f9039afb4144a1f6fd8d2ca17a180786b69acc140d282b71a49"
   }
  }
 },
 "nbformat": 4,
 "nbformat_minor": 5
}
